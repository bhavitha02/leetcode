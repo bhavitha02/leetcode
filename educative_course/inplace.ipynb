{
 "cells": [
  {
   "cell_type": "markdown",
   "metadata": {},
   "source": [
    "## In-Place Manipulation of Linked List\n",
    "- not additional memory needed\n",
    "- used in file system management, memory management."
   ]
  },
  {
   "cell_type": "markdown",
   "metadata": {},
   "source": [
    "\n",
    "Q1. Given a singly linked list with n nodes and two positions, left and right, the objective is to reverse the nodes of the list from left to right. Return the modified list."
   ]
  },
  {
   "cell_type": "code",
   "execution_count": null,
   "metadata": {
    "vscode": {
     "languageId": "plaintext"
    }
   },
   "outputs": [],
   "source": [
    "from linked_list import LinkedList\n",
    "from linked_list_node import LinkedListNode\n",
    "from linked_list_traversal import traverse_linked_list\n",
    "from linked_list_reversal import reverse_linked_list\n",
    "            \n",
    "def reverse_between(head, left, right):\n",
    "  \n",
    "  # for left node\n",
    "  prev_left_node, left_node = None, head\n",
    "  left_ptr = 1\n",
    "  while left_ptr < left:\n",
    "    prev_left_node = left_node\n",
    "    left_node = left_node.next\n",
    "    left_ptr+=1\n",
    "    \n",
    "  # for right node\n",
    "  right_node = left_node\n",
    "  right_ptr = 1\n",
    "  while right_ptr <= right-left:\n",
    "    right_node = right_node.next\n",
    "    right_ptr += 1 \n",
    "  right_next = right_node.next\n",
    "\n",
    "\n",
    "  # reverse the nodes between left and right idx\n",
    "  prev, curr = left_node, left_node.next\n",
    "  for _ in range(right-left):\n",
    "    next = curr.next \n",
    "    curr.next = prev \n",
    "    prev = curr\n",
    "    curr = next \n",
    "  \n",
    "  # edge case for prev_left_node\n",
    "  if prev_left_node is not None:\n",
    "    prev_left_node.next = right_node \n",
    "  left_node.next = right_next\n",
    "\n",
    "  # when first index is reversed change the head\n",
    "  head = right_node if left==1 else head\n",
    "  \n",
    "  return head"
   ]
  }
 ],
 "metadata": {
  "kernelspec": {
   "display_name": "Python 3",
   "language": "python",
   "name": "python3"
  },
  "language_info": {
   "codemirror_mode": {
    "name": "ipython",
    "version": 3
   },
   "file_extension": ".py",
   "mimetype": "text/x-python",
   "name": "python",
   "nbconvert_exporter": "python",
   "pygments_lexer": "ipython3",
   "version": "3.11.6"
  }
 },
 "nbformat": 4,
 "nbformat_minor": 2
}
