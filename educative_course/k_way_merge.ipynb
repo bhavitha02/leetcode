{
 "cells": [
  {
   "cell_type": "code",
   "execution_count": null,
   "metadata": {},
   "outputs": [],
   "source": [
    "# https://www.educative.io/courses/grokking-coding-interview-in-python/merge-sorted-array\n",
    "\n",
    "from traversal import *\n",
    "\n",
    "\n",
    "def merge_sorted(nums1, m, nums2, n):\n",
    "  p1, p2, p = m-1, n-1, m+n-1\n",
    "  \n",
    "  while p2>=0:\n",
    "    \n",
    "    if p1>=0 and nums1[p1] > nums2[p2]:\n",
    "      nums1[p] = nums1[p1]\n",
    "      p1 -= 1\n",
    "      \n",
    "    else:\n",
    "      nums1[p] = nums2[p2]\n",
    "      p2 -= 1\n",
    "    \n",
    "    p -= 1\n",
    "  \n",
    "  return nums1\n"
   ]
  }
 ],
 "metadata": {
  "kernelspec": {
   "display_name": "Python 3",
   "language": "python",
   "name": "python3"
  },
  "language_info": {
   "name": "python",
   "version": "3.9.6"
  }
 },
 "nbformat": 4,
 "nbformat_minor": 2
}
