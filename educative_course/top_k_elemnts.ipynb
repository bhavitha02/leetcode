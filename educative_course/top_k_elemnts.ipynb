{
 "cells": [
  {
   "cell_type": "code",
   "execution_count": null,
   "metadata": {},
   "outputs": [],
   "source": [
    "# https://www.educative.io/courses/grokking-coding-interview-in-python/kth-largest-element-in-a-stream\n",
    "\n",
    "import heapq \n",
    "from heapq import *\n",
    "\n",
    "class KthLargest:\n",
    "    # Constructor to initialize heap and add values in it\n",
    "    def __init__(self, k, nums):\n",
    "      self.min_heap = []\n",
    "      self.k = k\n",
    "      for i in nums:\n",
    "        self.add(i)\n",
    "    \n",
    "\n",
    "    # Adds element in the heap and return the Kth largest\n",
    "    def add(self, val):\n",
    "      if len(self.min_heap)< self.k:\n",
    "        heappush(self.min_heap, val)\n",
    "      else:\n",
    "        if val > self.min_heap[0]:\n",
    "          heappop(self.min_heap)\n",
    "          heappush(self.min_heap, val)\n",
    "\n",
    "      return self.min_heap[0]\n"
   ]
  }
 ],
 "metadata": {
  "language_info": {
   "name": "python"
  }
 },
 "nbformat": 4,
 "nbformat_minor": 2
}
