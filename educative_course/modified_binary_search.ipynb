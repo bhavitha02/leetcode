{
 "cells": [
  {
   "cell_type": "code",
   "execution_count": null,
   "metadata": {},
   "outputs": [],
   "source": [
    "# Binary search\n",
    "def binary_search(nums, target):\n",
    "  left = 0\n",
    "  right = len(nums)-1\n",
    "  mid = len(nums)//2\n",
    "  while left <= right:\n",
    "    if nums[mid]==target:\n",
    "      return mid\n",
    "    elif nums[mid]<target:\n",
    "      left = mid + 1\n",
    "    else:\n",
    "      right = mid - 1\n",
    "    mid = (right+left)//2\n",
    "  return -1 "
   ]
  },
  {
   "cell_type": "code",
   "execution_count": null,
   "metadata": {},
   "outputs": [],
   "source": []
  }
 ],
 "metadata": {
  "language_info": {
   "name": "python"
  }
 },
 "nbformat": 4,
 "nbformat_minor": 2
}
