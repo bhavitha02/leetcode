{
 "cells": [
  {
   "cell_type": "code",
   "execution_count": null,
   "metadata": {},
   "outputs": [],
   "source": [
    "# Binary search\n",
    "def binary_search(nums, target):\n",
    "  left = 0\n",
    "  right = len(nums)-1\n",
    "  mid = len(nums)//2\n",
    "  while left <= right:\n",
    "    if nums[mid]==target:\n",
    "      return mid\n",
    "    elif nums[mid]<target:\n",
    "      left = mid + 1\n",
    "    else:\n",
    "      right = mid - 1\n",
    "    mid = (right+left)//2\n",
    "  return -1 "
   ]
  },
  {
   "cell_type": "code",
   "execution_count": null,
   "metadata": {},
   "outputs": [],
   "source": [
    "#https://www.educative.io/courses/grokking-coding-interview-in-python/search-in-rotated-sorted-array\n",
    "\n",
    "def binary_search_rotated(nums, target):\n",
    "  low, high = 0, len(nums)-1\n",
    "  \n",
    "  while low<=high:\n",
    "    mid = (high+low)//2\n",
    "    \n",
    "    if nums[mid] == target:\n",
    "      return mid\n",
    "      \n",
    "    if nums[low]<=nums[mid]:\n",
    "      if nums[low] <= target and target < nums[mid]:\n",
    "        high = mid-1 \n",
    "      else:\n",
    "        low = mid+1\n",
    "        \n",
    "    else:\n",
    "      if nums[mid] < target and target <= nums[high]:\n",
    "        low = mid+1 \n",
    "      else:\n",
    "        high = mid-1 \n",
    "        \n",
    "  return -1"
   ]
  }
 ],
 "metadata": {
  "language_info": {
   "name": "python"
  }
 },
 "nbformat": 4,
 "nbformat_minor": 2
}
